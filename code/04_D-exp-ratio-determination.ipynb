{
 "cells": [
  {
   "cell_type": "markdown",
   "metadata": {},
   "source": [
    "# Determination of ratio D in Forward Field Calculation using Tesseroid with Exponential Density\n",
    "\n",
    "Our intention is to determine the ratio D needed to get an acceptable precission in the calculation of gravity fields using tesseroids with variable density that depends exponentialy on radius.\n",
    "\n",
    "\\begin{equation}\n",
    "\\rho(r) = Ae^{r/b}\n",
    "\\end{equation}\n",
    "\n",
    "In order to do this, we are going to take into account an spherical shell with inner and outer radii $R_1$ and $R_2$, respectivetly. We will perform the fields calculation for different values of D and compare them with the analytical solutions obtained in the \"02_spherical_shell_variable_density\" notebook:\n",
    "\n",
    "\\begin{equation}\n",
    "V_\\text{exp}(r) = \\frac{4\\pi G Ab}{r} \\left[ (R_2^2 - 2R_2 b + 2b^2)e^\\frac{R_2}{b} - (R_1^2 - 2R_1 b + 2b^2)e^\\frac{R_1}{b}   \\right]\n",
    "\\end{equation}\n",
    "\n",
    "Due to the nature of the numerical approximation of the tesseroid field by point masses located in the nodes of the GLQ, the fields can vary between computation points at the same height but at different longitude, latitude locations. Because of this we will evaluate the fields in a small grid and the comparation will be made by calculating the maximum difference between the analytical solution and these computation points.\n"
   ]
  },
  {
   "cell_type": "markdown",
   "metadata": {},
   "source": [
    "**Import Packages**"
   ]
  },
  {
   "cell_type": "code",
   "execution_count": 1,
   "metadata": {
    "collapsed": true
   },
   "outputs": [],
   "source": [
    "from __future__ import division\n",
    "import os\n",
    "import time\n",
    "import numpy as np\n",
    "from tesseroid_density import tesseroid\n",
    "from fatiando.constants import G, MEAN_EARTH_RADIUS, SI2MGAL, SI2EOTVOS\n",
    "from fatiando.mesher import Tesseroid, TesseroidMesh\n",
    "from fatiando import gridder\n",
    "import matplotlib.pyplot as plt\n",
    "\n",
    "%matplotlib inline"
   ]
  },
  {
   "cell_type": "markdown",
   "metadata": {},
   "source": [
    "**Configuration for Pyplot Figures**"
   ]
  },
  {
   "cell_type": "code",
   "execution_count": 2,
   "metadata": {
    "collapsed": true
   },
   "outputs": [],
   "source": [
    "plt.rcParams['axes.labelsize'] = 9.0 # fontsize of the x any y labels\n",
    "plt.rcParams['xtick.labelsize'] = 9.0 # fontsize of the tick labels\n",
    "plt.rcParams['ytick.labelsize'] = 9.0 # fontsize of the tick labels\n",
    "plt.rcParams['legend.fontsize'] = 9.0\n",
    "plt.rcParams['font.family'] = 'serif'\n",
    "plt.rcParams['font.serif'] = 'Computer Modern Roman'\n",
    "plt.rcParams['text.usetex'] = True # use latex for all text handling\n",
    "plt.rcParams['text.color'] = '3a3a3a'\n",
    "plt.rcParams['figure.facecolor'] = 'white'\n",
    "plt.rcParams['axes.linewidth'] = 1\n",
    "plt.rcParams['axes.edgecolor'] = '3a3a3a'\n",
    "plt.rcParams['axes.facecolor'] = 'white'\n",
    "plt.rcParams['lines.linewidth'] = 1\n",
    "plt.rcParams['lines.markersize'] = 4\n",
    "plt.rcParams['xtick.major.size'] = 2\n",
    "plt.rcParams['ytick.major.size'] = 2"
   ]
  },
  {
   "cell_type": "markdown",
   "metadata": {},
   "source": [
    "**Definition of exponential density function**"
   ]
  },
  {
   "cell_type": "code",
   "execution_count": 3,
   "metadata": {
    "collapsed": true
   },
   "outputs": [],
   "source": [
    "a = 1.\n",
    "b = 1000*1e3\n",
    "\n",
    "def density_exp(height):\n",
    "    r = height + MEAN_EARTH_RADIUS\n",
    "    return a*np.exp(r/b)"
   ]
  },
  {
   "cell_type": "markdown",
   "metadata": {},
   "source": [
    "**Definition of spherical shell potential function**"
   ]
  },
  {
   "cell_type": "code",
   "execution_count": 4,
   "metadata": {
    "collapsed": true
   },
   "outputs": [],
   "source": [
    "def shell_exp_density(height, top, bottom, a, b):\n",
    "    r = height + MEAN_EARTH_RADIUS\n",
    "    r1 = bottom + MEAN_EARTH_RADIUS\n",
    "    r2 = top + MEAN_EARTH_RADIUS\n",
    "    constant = 4*np.pi*G*a*b*((r2**2 - 2*r2*b + 2*b**2)*np.exp(r2/b) -\n",
    "                              (r1**2 - 2*r1*b + 2*b**2)*np.exp(r1/b))\n",
    "    potential = constant/r\n",
    "    data = {'potential': potential,\n",
    "            'gx': 0,\n",
    "            'gy': 0,\n",
    "            'gz': SI2MGAL*(potential/r),\n",
    "            'gxx': SI2EOTVOS*(-potential/r**2),\n",
    "            'gxy': 0,\n",
    "            'gxz': 0,\n",
    "            'gyy': SI2EOTVOS*(-potential/r**2),\n",
    "            'gyz': 0,\n",
    "            'gzz': SI2EOTVOS*(2*potential/r**2)}\n",
    "    return data"
   ]
  },
  {
   "cell_type": "markdown",
   "metadata": {},
   "source": [
    "**Definition of Spherical Shell and Tesseroid Model**"
   ]
  },
  {
   "cell_type": "code",
   "execution_count": 5,
   "metadata": {
    "collapsed": true
   },
   "outputs": [],
   "source": [
    "top, bottom = 0, -1000\n",
    "model = TesseroidMesh((0, 360, -90, 90, top, bottom), (1, 6, 12))\n",
    "model.addprop(\"density\", [density_exp for i in range(model.size)])"
   ]
  },
  {
   "cell_type": "markdown",
   "metadata": {},
   "source": [
    "**Determination of D for different grids**"
   ]
  },
  {
   "cell_type": "code",
   "execution_count": 6,
   "metadata": {},
   "outputs": [
    {
     "name": "stderr",
     "output_type": "stream",
     "text": [
      "tesseroid_density/tesseroid.py:234: RuntimeWarning: Stopped dividing a tesseroid because it's dimensions would be below the minimum numerical threshold (1e-6 degrees or 1e-3 m). Will compute without division. Cannot guarantee the accuracy of the solution.\n",
      "  warnings.warn(warning_msg, RuntimeWarning)\n"
     ]
    }
   ],
   "source": [
    "shape = (10, 10)\n",
    "grids = {\"pole\": gridder.regular((89, 90, 0, 1), shape, z=2e3),\n",
    "         \"equator\": gridder.regular((0, 1, 0, 1), shape, z=2e3),\n",
    "         \"260km\": gridder.regular((89, 90, 0, 1), shape, z=260e3),\n",
    "         \"30deg\": gridder.regular((60, 90, 0, 30), shape, z=2e3)}\n",
    "fields = 'potential gz gzz'.split()\n",
    "D_values = np.arange(0.5, 10.5, 0.5)\n",
    "\n",
    "for field in fields:\n",
    "    for grid in grids.keys():\n",
    "        lons, lats, heights = grids[grid]\n",
    "        analytical = shell_exp_density(heights[0], top, bottom, a, b)\n",
    "        diffs = []\n",
    "        for D in D_values:\n",
    "            result = getattr(tesseroid, field)(lons, lats, heights, model, ratio=D)\n",
    "            diff = np.abs(result - analytical[field])/np.abs(analytical[field])\n",
    "            diff = 100*np.max(diff)\n",
    "            diffs.append(diff)\n",
    "        diffs = np.array(diffs)\n",
    "        np.savez('../data/Dexp/' + field + '-' + grid + '-differences.npz',\n",
    "                 D_values=D_values, diffs=diffs)"
   ]
  },
  {
   "cell_type": "markdown",
   "metadata": {},
   "source": [
    "**Plot results**"
   ]
  },
  {
   "cell_type": "code",
   "execution_count": 7,
   "metadata": {},
   "outputs": [
    {
     "data": {
      "image/png": "[encoded data removed]",
      "text/plain": [
       "<matplotlib.figure.Figure at 0x7f150c6c4310>"
      ]
     },
     "metadata": {},
     "output_type": "display_data"
    }
   ],
   "source": [
    "grids = ['pole', 'equator', '260km', '30deg']\n",
    "fields = 'potential gz gzz'.split()\n",
    "styles = ['-o', '-^', '-v', '-s']\n",
    "msize = [5, 4, 3, 2]\n",
    "colors = ['b', 'r', 'g', 'm']\n",
    "labels = [r'Pole', r'Equator', r'260 km', r'$30^\\circ$ size']\n",
    "titles = 'V gz gzz'.split()\n",
    "subfigure = '(a) (b) (c)'.split()\n",
    "\n",
    "fig, axes = plt.subplots(nrows=len(fields), ncols=1, sharex=True)\n",
    "fig.set_size_inches((3.33, 5))\n",
    "fig.subplots_adjust(hspace=0)\n",
    "for ax, field, title, sub in zip(axes, fields, titles, subfigure):\n",
    "    for grid, style, c, label, ms in zip(grids, styles, colors, labels, msize):\n",
    "        diffs = np.load('../data/Dexp/' + field + '-' + grid + '-differences.npz')\n",
    "        D_values, diff = diffs['D_values'], diffs['diffs']\n",
    "        ax.plot(D_values, diff, style, markersize=ms,\n",
    "                color=c, label=label)\n",
    "        ax.text(-0.21, 0.9, sub, fontsize=12,\n",
    "                fontdict={'weight': 'bold'},\n",
    "                transform=ax.transAxes)\n",
    "        ax.text(0.5, 0.88, title, fontsize=11,\n",
    "                horizontalalignment='center',\n",
    "                verticalalignment='center',\n",
    "                bbox={'facecolor': 'w',\n",
    "                      'edgecolor': '#9b9b9b',\n",
    "                      'linewidth': 0.5, 'pad': 5},\n",
    "                transform=ax.transAxes)\n",
    "        ax.plot([-1, 11], [1e-1, 1e-1], '--',\n",
    "                color='k', linewidth=0.5)\n",
    "        ax.set_yscale('log')\n",
    "        ax.set_yticks(ax.get_yticks()[2:-2])\n",
    "        ax.set_ylabel('Difference (\\%)')\n",
    "        ax.grid(True, linewidth=0.5, color='#aeaeae')\n",
    "        ax.set_axisbelow(True)\n",
    "ax = axes[-1]\n",
    "ax.set_xlabel(r\"D\")\n",
    "ax.set_xlim(0, 10)\n",
    "ax.set_xticks(np.arange(0, 11, 1))\n",
    "ax.legend()\n",
    "plt.tight_layout(pad=0.3, h_pad=0, w_pad=0)\n",
    "plt.savefig('../figs/Dexp-differences.svg')\n",
    "plt.show()"
   ]
  },
  {
   "cell_type": "markdown",
   "metadata": {
    "collapsed": true
   },
   "source": [
    "## Shifted exponential density\n",
    "\n",
    "Now we are going to perform the same tests, but now with a shifted exponential density, thus:\n",
    "\n",
    "\\begin{equation}\n",
    "\\rho(r) = Ae^{(r-\\Delta h)/b}\n",
    "\\end{equation}\n",
    "\n",
    "The analytical solution of the potential generated by a spherical shell with this density function was obtained in the notebook called \"02_spherical_shell_variable_density\":\n",
    "\n",
    "\\begin{equation}\n",
    "V_\\text{exp}(r) = \\frac{4\\pi G Ab}{r} e^\\frac{-\\Delta h}{b} \\left[ (R_2^2 - 2R_2 b + 2b^2)e^\\frac{R_2}{b} - (R_1^2 - 2R_1 b + 2b^2)e^\\frac{R_1}{b}   \\right]\n",
    "\\end{equation}"
   ]
  },
  {
   "cell_type": "markdown",
   "metadata": {},
   "source": [
    "**Definition of exponential density function**"
   ]
  },
  {
   "cell_type": "code",
   "execution_count": 4,
   "metadata": {
    "collapsed": true
   },
   "outputs": [],
   "source": [
    "a = 1.\n",
    "b = 1e6\n",
    "deltah = MEAN_EARTH_RADIUS\n",
    "\n",
    "def density_exp_shifted(height):\n",
    "    r = height + MEAN_EARTH_RADIUS\n",
    "    return a*np.exp((r - deltah)/b)"
   ]
  },
  {
   "cell_type": "markdown",
   "metadata": {},
   "source": [
    "**Definition of spherical shell potential function**"
   ]
  },
  {
   "cell_type": "code",
   "execution_count": 5,
   "metadata": {
    "collapsed": true
   },
   "outputs": [],
   "source": [
    "def shell_exp_density_shifted(height, top, bottom, a, b, deltah):\n",
    "    r = height + MEAN_EARTH_RADIUS\n",
    "    r1 = bottom + MEAN_EARTH_RADIUS\n",
    "    r2 = top + MEAN_EARTH_RADIUS\n",
    "    constant = 4*np.pi*G*a*b*np.exp(-deltah/b)*((r2**2 - 2*r2*b + 2*b**2)*np.exp(r2/b) -\n",
    "                                                (r1**2 - 2*r1*b + 2*b**2)*np.exp(r1/b))\n",
    "    potential = constant/r\n",
    "    data = {'potential': potential,\n",
    "            'gx': 0,\n",
    "            'gy': 0,\n",
    "            'gz': SI2MGAL*(potential/r),\n",
    "            'gxx': SI2EOTVOS*(-potential/r**2),\n",
    "            'gxy': 0,\n",
    "            'gxz': 0,\n",
    "            'gyy': SI2EOTVOS*(-potential/r**2),\n",
    "            'gyz': 0,\n",
    "            'gzz': SI2EOTVOS*(2*potential/r**2)}\n",
    "    return data"
   ]
  },
  {
   "cell_type": "markdown",
   "metadata": {},
   "source": [
    "**Definition of Spherical Shell and Tesseroid Model**"
   ]
  },
  {
   "cell_type": "code",
   "execution_count": 6,
   "metadata": {
    "collapsed": true
   },
   "outputs": [],
   "source": [
    "top, bottom = 0, -1000\n",
    "model = TesseroidMesh((0, 360, -90, 90, top, bottom), (1, 6, 12))\n",
    "model.addprop(\"density\", [density_exp_shifted for i in range(model.size)])"
   ]
  },
  {
   "cell_type": "markdown",
   "metadata": {},
   "source": [
    "**Determination of D for different grids**"
   ]
  },
  {
   "cell_type": "code",
   "execution_count": 7,
   "metadata": {},
   "outputs": [
    {
     "name": "stderr",
     "output_type": "stream",
     "text": [
      "tesseroid_density/tesseroid.py:234: RuntimeWarning: Stopped dividing a tesseroid because it's dimensions would be below the minimum numerical threshold (1e-6 degrees or 1e-3 m). Will compute without division. Cannot guarantee the accuracy of the solution.\n",
      "  warnings.warn(warning_msg, RuntimeWarning)\n"
     ]
    }
   ],
   "source": [
    "shape = (10, 10)\n",
    "grids = {\"pole\": gridder.regular((89, 90, 0, 1), shape, z=2e3),\n",
    "         \"equator\": gridder.regular((0, 1, 0, 1), shape, z=2e3),\n",
    "         \"260km\": gridder.regular((89, 90, 0, 1), shape, z=260e3),\n",
    "         \"30deg\": gridder.regular((60, 90, 0, 30), shape, z=2e3)}\n",
    "fields = 'potential gz gzz'.split()\n",
    "D_values = np.arange(0.5, 10.5, 0.5)\n",
    "\n",
    "for field in fields:\n",
    "    for grid in grids.keys():\n",
    "        lons, lats, heights = grids[grid]\n",
    "        analytical = shell_exp_density_shifted(heights[0], top, bottom, a, b, deltah)\n",
    "        diffs = []\n",
    "        for D in D_values:\n",
    "            result = getattr(tesseroid, field)(lons, lats, heights, model, ratio=D)\n",
    "            diff = np.abs(result - analytical[field])/np.abs(analytical[field])\n",
    "            diff = 100*np.max(diff)\n",
    "            diffs.append(diff)\n",
    "        diffs = np.array(diffs)\n",
    "        np.savez('../data/Dexp-shifted/' + field + '-' + grid + '-differences.npz',\n",
    "                 D_values=D_values, diffs=diffs)"
   ]
  },
  {
   "cell_type": "markdown",
   "metadata": {},
   "source": [
    "**Plot results**"
   ]
  },
  {
   "cell_type": "code",
   "execution_count": 8,
   "metadata": {},
   "outputs": [
    {
     "data": {
      "image/png": "[encoded data removed]",
      "text/plain": [
       "<matplotlib.figure.Figure at 0x7f14c2f172d0>"
      ]
     },
     "metadata": {},
     "output_type": "display_data"
    }
   ],
   "source": [
    "grids = ['pole', 'equator', '260km', '30deg']\n",
    "fields = 'potential gz gzz'.split()\n",
    "styles = ['-o', '-^', '-v', '-s']\n",
    "msize = [5, 4, 3, 2]\n",
    "colors = ['b', 'r', 'g', 'm']\n",
    "labels = [r'Pole', r'Equator', r'260 km', r'$30^\\circ$ size']\n",
    "titles = 'V gz gzz'.split()\n",
    "subfigure = '(a) (b) (c)'.split()\n",
    "\n",
    "fig, axes = plt.subplots(nrows=len(fields), ncols=1, sharex=True)\n",
    "fig.set_size_inches((3.33, 5))\n",
    "fig.subplots_adjust(hspace=0)\n",
    "for ax, field, title, sub in zip(axes, fields, titles, subfigure):\n",
    "    for grid, style, c, label, ms in zip(grids, styles, colors, labels, msize):\n",
    "        diffs = np.load('../data/Dexp-shifted/' + field + '-' + grid + '-differences.npz')\n",
    "        D_values, diff = diffs['D_values'], diffs['diffs']\n",
    "        ax.plot(D_values, diff, style, markersize=ms,\n",
    "                color=c, label=label)\n",
    "        ax.text(-0.21, 0.9, sub, fontsize=12,\n",
    "                fontdict={'weight': 'bold'},\n",
    "                transform=ax.transAxes)\n",
    "        ax.text(0.5, 0.88, title, fontsize=11,\n",
    "                horizontalalignment='center',\n",
    "                verticalalignment='center',\n",
    "                bbox={'facecolor': 'w',\n",
    "                      'edgecolor': '#9b9b9b',\n",
    "                      'linewidth': 0.5, 'pad': 5},\n",
    "                transform=ax.transAxes)\n",
    "        ax.plot([-1, 11], [1e-1, 1e-1], '--',\n",
    "                color='k', linewidth=0.5)\n",
    "        ax.set_yscale('log')\n",
    "        ax.set_yticks(ax.get_yticks()[2:-2])\n",
    "        ax.set_ylabel('Difference (\\%)')\n",
    "        ax.grid(True, linewidth=0.5, color='#aeaeae')\n",
    "        ax.set_axisbelow(True)\n",
    "ax = axes[-1]\n",
    "ax.set_xlabel(r\"D\")\n",
    "ax.set_xlim(0, 10)\n",
    "ax.set_xticks(np.arange(0, 11, 1))\n",
    "ax.legend()\n",
    "plt.tight_layout(pad=0.3, h_pad=0, w_pad=0)\n",
    "plt.savefig('../figs/Dexp-shifted-differences.svg')\n",
    "plt.show()"
   ]
  },
  {
   "cell_type": "markdown",
   "metadata": {
    "collapsed": true
   },
   "source": [
    "## Determination of D vs the constant b in the power\n",
    "\n",
    "Now we are going to calculate the gzz component for different values of D and different values of the constant $b$ in the power of the density function in order to test how does the D behaves when the exponential density gets steeper."
   ]
  },
  {
   "cell_type": "markdown",
   "metadata": {},
   "source": [
    "**Definition of Spherical Shell and Tesseroid Model**"
   ]
  },
  {
   "cell_type": "code",
   "execution_count": 3,
   "metadata": {
    "collapsed": true
   },
   "outputs": [],
   "source": [
    "top, bottom = 0, -1000\n",
    "model = TesseroidMesh((0, 360, -90, 90, top, bottom), (1, 6, 12))"
   ]
  },
  {
   "cell_type": "markdown",
   "metadata": {},
   "source": [
    "**Definition of computation grid**"
   ]
  },
  {
   "cell_type": "code",
   "execution_count": 4,
   "metadata": {
    "collapsed": true
   },
   "outputs": [],
   "source": [
    "shape = (10, 10)\n",
    "lons, lats, heights = gridder.regular((60, 90, 0, 30), shape, z=2e3)"
   ]
  },
  {
   "cell_type": "markdown",
   "metadata": {},
   "source": [
    "**Determination of D for different constants b**"
   ]
  },
  {
   "cell_type": "code",
   "execution_count": null,
   "metadata": {},
   "outputs": [],
   "source": [
    "field = 'gzz'\n",
    "a = 1.\n",
    "b_values = [1e4, 1e5, 1e6]\n",
    "deltah = MEAN_EARTH_RADIUS\n",
    "D_values = np.arange(0.5, 10.5, 0.5)\n",
    "\n",
    "\n",
    "for b in b_values:\n",
    "    # Define new functions for each b\n",
    "    def density_exp_shifted(height):\n",
    "        r = height + MEAN_EARTH_RADIUS\n",
    "        return a*np.exp((r - deltah)/b)\n",
    "\n",
    "    def shell_exp_density_shifted(height, top, bottom, a, b, deltah):\n",
    "        r = height + MEAN_EARTH_RADIUS\n",
    "        r1 = bottom + MEAN_EARTH_RADIUS\n",
    "        r2 = top + MEAN_EARTH_RADIUS\n",
    "        constant = 4*np.pi*G*a*b*np.exp(-deltah/b)*((r2**2 - 2*r2*b + 2*b**2)*np.exp(r2/b) -\n",
    "                                                    (r1**2 - 2*r1*b + 2*b**2)*np.exp(r1/b))\n",
    "        potential = constant/r\n",
    "        data = {'potential': potential,\n",
    "                'gx': 0,\n",
    "                'gy': 0,\n",
    "                'gz': SI2MGAL*(potential/r),\n",
    "                'gxx': SI2EOTVOS*(-potential/r**2),\n",
    "                'gxy': 0,\n",
    "                'gxz': 0,\n",
    "                'gyy': SI2EOTVOS*(-potential/r**2),\n",
    "                'gyz': 0,\n",
    "                'gzz': SI2EOTVOS*(2*potential/r**2)}\n",
    "        return data\n",
    "\n",
    "    analytical = shell_exp_density_shifted(heights[0], top, bottom, a, b, deltah)\n",
    "    diffs = []\n",
    "    model.addprop(\"density\", [density_exp_shifted for i in range(model.size)])\n",
    "    for D in D_values:\n",
    "        result = getattr(tesseroid, field)(lons, lats, heights, model, ratio=D)\n",
    "        diff = np.abs(result - analytical[field])/np.abs(analytical[field])\n",
    "        diff = 100*np.max(diff)\n",
    "        diffs.append(diff)\n",
    "    diffs = np.array(diffs)\n",
    "    np.savez('../data/Dexp-vs-power/' + field + '-' + '{:.0e}'.format(b) + '-differences.npz',\n",
    "             D_values=D_values, diffs=diffs)"
   ]
  },
  {
   "cell_type": "code",
   "execution_count": 6,
   "metadata": {},
   "outputs": [
    {
     "data": {
      "image/png": "[encoded data removed]",
      "text/plain": [
       "<matplotlib.figure.Figure at 0x7fad2a97f790>"
      ]
     },
     "metadata": {},
     "output_type": "display_data"
    }
   ],
   "source": [
    "b_values = [1e4, 1e5, 1e6]\n",
    "markers = [\"o\", \"s\", \"^\", \"v\", \"D\"]\n",
    "field = 'gzz'\n",
    "\n",
    "fig, ax = plt.subplots()\n",
    "fig.set_size_inches((3.33, 2.5))\n",
    "for b, m in zip(b_values, markers):\n",
    "    diffs = np.load('../data/Dexp-vs-power/' + field + '-' +\n",
    "                    '{:.0e}'.format(b) + '-differences.npz')\n",
    "    D_values, diff = diffs['D_values'], diffs['diffs']\n",
    "    ax.plot(D_values, diff, '-', marker=m,\n",
    "            label='{:.0e}'.format(b))\n",
    "\n",
    "ax.plot([0, 10], [1e-1, 1e-1], '--', color='k', linewidth=0.5)\n",
    "ax.set_yscale('log')\n",
    "ax.set_yticks(ax.get_yticks()[2:-2])\n",
    "ax.set_ylabel('Difference (\\%)')\n",
    "ax.grid(True, linewidth=0.5, color='#aeaeae')\n",
    "ax.set_axisbelow(True)\n",
    "ax.set_xlabel(r\"D\")\n",
    "ax.set_xlim(0, 10)\n",
    "ax.set_xticks(np.arange(0, 11, 1))\n",
    "plt.legend()\n",
    "plt.tight_layout(pad=0.3, h_pad=0, w_pad=0)\n",
    "plt.savefig('../figs/Dexp-vs-power-differences.svg')\n",
    "plt.show()"
   ]
  },
  {
   "cell_type": "code",
   "execution_count": null,
   "metadata": {
    "collapsed": true
   },
   "outputs": [],
   "source": []
  }
 ],
 "metadata": {
  "kernelspec": {
   "display_name": "Python 2",
   "language": "python",
   "name": "python2"
  },
  "language_info": {
   "codemirror_mode": {
    "name": "ipython",
    "version": 2
   },
   "file_extension": ".py",
   "mimetype": "text/x-python",
   "name": "python",
   "nbconvert_exporter": "python",
   "pygments_lexer": "ipython2",
   "version": "2.7.13"
  }
 },
 "nbformat": 4,
 "nbformat_minor": 2
}
