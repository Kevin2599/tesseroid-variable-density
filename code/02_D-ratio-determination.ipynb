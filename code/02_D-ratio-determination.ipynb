{
 "cells": [
  {
   "cell_type": "markdown",
   "metadata": {},
   "source": [
    "# Determination of ratio D in Forward Field Calculation using Variable Density Tesseroid\n",
    "\n",
    "## Hypotesis\n",
    "\n",
    "We are going to start with certain assumptions. We will supose that the density is a linear function on height:\n",
    "\n",
    "$\\rho(\\Delta h) = a\\Delta h + b$\n"
   ]
  },
  {
   "cell_type": "markdown",
   "metadata": {},
   "source": [
    "**Import Packages**"
   ]
  },
  {
   "cell_type": "code",
   "execution_count": 9,
   "metadata": {
    "collapsed": true
   },
   "outputs": [],
   "source": [
    "from __future__ import division\n",
    "import time\n",
    "import numpy as np\n",
    "from tesseroid_density import tesseroid\n",
    "from fatiando.constants import G, MEAN_EARTH_RADIUS\n",
    "from fatiando.mesher import Tesseroid, TesseroidMesh\n",
    "from fatiando import gridder\n",
    "import matplotlib.pyplot as plt\n",
    "\n",
    "%matplotlib inline"
   ]
  },
  {
   "cell_type": "markdown",
   "metadata": {},
   "source": [
    "**Definition of linear density function**"
   ]
  },
  {
   "cell_type": "code",
   "execution_count": 10,
   "metadata": {
    "collapsed": true
   },
   "outputs": [],
   "source": [
    "def density_linear(height):\n",
    "    return height + MEAN_EARTH_RADIUS"
   ]
  },
  {
   "cell_type": "markdown",
   "metadata": {},
   "source": [
    "**Definition of spherical shell potential function**"
   ]
  },
  {
   "cell_type": "code",
   "execution_count": 12,
   "metadata": {},
   "outputs": [],
   "source": [
    "def shell_variable(height, top, bottom, a, b):\n",
    "    r = height + MEAN_EARTH_RADIUS\n",
    "    r1 = bottom + MEAN_EARTH_RADIUS\n",
    "    r2 = top + MEAN_EARTH_RADIUS\n",
    "    constant = np.pi*G*a*(r1**2 + r2**2)*(r2**2 - r1**2) + 4/3.*np.pi*G*b*(r2**3 - r1**3)\n",
    "    potential = constant/r\n",
    "    data = {'potential': potential,\n",
    "            'gx': 0,\n",
    "            'gy': 0,\n",
    "            'gz': SI2MGAL*(potential/r),\n",
    "            'gxx': SI2EOTVOS*(-potential/r**2),\n",
    "            'gxy': 0,\n",
    "            'gxz': 0,\n",
    "            'gyy': SI2EOTVOS*(-potential/r**2),\n",
    "            'gyz': 0,\n",
    "            'gzz': SI2EOTVOS*(2*potential/r**2)}\n",
    "    return data"
   ]
  },
  {
   "cell_type": "markdown",
   "metadata": {},
   "source": [
    "**Creation of the computation grid**"
   ]
  },
  {
   "cell_type": "code",
   "execution_count": 13,
   "metadata": {
    "collapsed": true
   },
   "outputs": [],
   "source": [
    "area = (-30, 30, -30, 30)\n",
    "shape = (20, 20)\n",
    "h = 10e3\n",
    "lons, lats, heights = gridder.regular(area, shape, z=h)"
   ]
  },
  {
   "cell_type": "markdown",
   "metadata": {},
   "source": [
    "**Tesseroid Mesh**"
   ]
  },
  {
   "cell_type": "code",
   "execution_count": null,
   "metadata": {
    "collapsed": true
   },
   "outputs": [],
   "source": [
    "top, bottom = -3000, -50000\n",
    "model = TesseroidMesh((0, 360, -90, 90, top, bottom), (1, 6, 12))\n",
    "model.addprop(\"density\", [density_linear for i in range(model.size)])\n"
   ]
  }
 ],
 "metadata": {
  "kernelspec": {
   "display_name": "Python 2",
   "language": "python",
   "name": "python2"
  },
  "language_info": {
   "codemirror_mode": {
    "name": "ipython",
    "version": 2
   },
   "file_extension": ".py",
   "mimetype": "text/x-python",
   "name": "python",
   "nbconvert_exporter": "python",
   "pygments_lexer": "ipython2",
   "version": "2.7.13"
  }
 },
 "nbformat": 4,
 "nbformat_minor": 2
}
