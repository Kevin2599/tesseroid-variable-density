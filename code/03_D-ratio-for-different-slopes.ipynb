{
 "cells": [
  {
   "cell_type": "markdown",
   "metadata": {},
   "source": [
    "# Determination of ratio D for different density function's slopes\n",
    "\n",
    "We are going to perform the same calculations of the previous notebook but now changing the slope of the linear density function. We are especting that D must increase for higher slopes because the system gets farther than the constant density picture as the slope gets higher."
   ]
  },
  {
   "cell_type": "markdown",
   "metadata": {},
   "source": [
    "**Import packages**"
   ]
  },
  {
   "cell_type": "code",
   "execution_count": 1,
   "metadata": {
    "collapsed": true
   },
   "outputs": [],
   "source": [
    "from __future__ import division\n",
    "import time\n",
    "import numpy as np\n",
    "from tesseroid_density import tesseroid\n",
    "from fatiando.mesher import Tesseroid, TesseroidMesh\n",
    "from fatiando import gridder\n",
    "import matplotlib.pyplot as plt\n",
    "\n",
    "%matplotlib inline"
   ]
  },
  {
   "cell_type": "markdown",
   "metadata": {},
   "source": [
    "**Creation of the computation grid**"
   ]
  },
  {
   "cell_type": "code",
   "execution_count": 2,
   "metadata": {
    "collapsed": true
   },
   "outputs": [],
   "source": [
    "area = (-30, 30, -30, 30)\n",
    "shape = (20, 20)\n",
    "h = 10e3\n",
    "lons, lats, heights = gridder.regular(area, shape, z=h)"
   ]
  },
  {
   "cell_type": "markdown",
   "metadata": {},
   "source": [
    "**Bounds and D ratio of the Tesseroid Mesh**"
   ]
  },
  {
   "cell_type": "code",
   "execution_count": 3,
   "metadata": {
    "collapsed": true
   },
   "outputs": [],
   "source": [
    "D_high = 8\n",
    "w, e, s, n, top, bottom = -10, 10, -10, 10, -3000, -50000"
   ]
  },
  {
   "cell_type": "markdown",
   "metadata": {},
   "source": [
    "**Definition of functions**\n"
   ]
  },
  {
   "cell_type": "code",
   "execution_count": 4,
   "metadata": {
    "collapsed": true
   },
   "outputs": [],
   "source": [
    "def optimal_nr():\n",
    "    \"Single computation point\"\n",
    "    lons_single = np.array([0.])\n",
    "    lats_single = np.array([0.])\n",
    "    heights_single = np.array([h])\n",
    "    \n",
    "    \"Initialization of the loop\"\n",
    "    potential_single_point = []\n",
    "    nr_values = []\n",
    "    nr = 0\n",
    "    res = 1e42\n",
    "    while True:\n",
    "        nr += 1\n",
    "        mesh_shape = (nr, 1, 1)\n",
    "        model_mesh = TesseroidMesh((w, e, s, n, top, bottom), mesh_shape)\n",
    "        \n",
    "        density_list = []\n",
    "        for tess in model_mesh:\n",
    "            lon1, lon2, lat1, lat2, r1, r2 = tess.get_bounds()\n",
    "            density_list.append(density_linear(0.5*(lon1 + lon2),\n",
    "                                               0.5*(lat1 + lat2), 0.5*(r1 + r2)))\n",
    "        model_mesh.addprop(\"density\", density_list)\n",
    "        res_old = res\n",
    "        res = getattr(tesseroid, 'potential')(lons_single,\n",
    "                                              lats_single,\n",
    "                                              heights_single,\n",
    "                                              model_mesh,\n",
    "                                              ratio=D_high)[0]\n",
    "        potential_single_point.append(res)\n",
    "        nr_values.append(nr)\n",
    "        diff = 100*abs((res-res_old)/res_old)\n",
    "        if diff < 1e-9:\n",
    "            break\n",
    "    return nr\n",
    "\n",
    "\n",
    "def true_potential_values():\n",
    "    \"We set the density of each tesseroid in the mesh as the\"\n",
    "    \"value of the linear density function in its center\"\n",
    "    model_const = TesseroidMesh((w, e, s, n, top, bottom), mesh_shape)\n",
    "    density_list = []\n",
    "    for tess in model_const:\n",
    "        lon1, lon2, lat1, lat2, r1, r2 = tess.get_bounds()\n",
    "        density_list.append(density_linear(0.5*(lon1 + lon2),\n",
    "                                           0.5*(lat1 + lat2),\n",
    "                                           0.5*(r1 + r2)))\n",
    "    model_const.addprop(\"density\", density_list)\n",
    "    true_potential = getattr(tesseroid, 'potential')(lons, lats,\n",
    "                                                     heights, model_const,\n",
    "                                                     ratio=D_high)\n",
    "    return true_potential\n",
    "\n",
    "\n",
    "def best_D_value():\n",
    "    # Calculate error for each distance-size ratio D\n",
    "    errors = []\n",
    "    model = Tesseroid(w, e, s, n, top, bottom, props={\"density\":density_linear})\n",
    "    D = 0\n",
    "    while True:\n",
    "        D += 0.5\n",
    "        st = time.time()\n",
    "        result = getattr(tesseroid, 'potential')(lons, lats, heights, [model], ratio=D)\n",
    "        print D, \"time: \", time.time() - st, \"s\"\n",
    "        diff = 100*np.max(np.abs((result - true_potential)/true_potential))\n",
    "        if diff < 1e-1:\n",
    "            break\n",
    "    return D"
   ]
  },
  {
   "cell_type": "markdown",
   "metadata": {},
   "source": [
    "**Slopes loop**"
   ]
  },
  {
   "cell_type": "code",
   "execution_count": 5,
   "metadata": {},
   "outputs": [
    {
     "name": "stdout",
     "output_type": "stream",
     "text": [
      "Slope:  0.0001\n",
      "nr:  941\n",
      "0.5 time:  0.0248429775238 s\n",
      "1.0 time:  0.0112519264221 s\n",
      "1.5 time:  0.022185087204 s\n",
      "D:  1.5\n",
      "Slope:  0.001\n",
      "nr:  941\n",
      "0.5 time:  0.00247001647949 s\n",
      "1.0 time:  0.00742316246033 s\n",
      "1.5 time:  0.0201780796051 s\n",
      "D:  1.5\n",
      "Slope:  0.01\n",
      "nr:  941\n",
      "0.5 time:  0.00291585922241 s\n",
      "1.0 time:  0.00704288482666 s\n",
      "1.5 time:  0.021281003952 s\n",
      "D:  1.5\n",
      "Slope:  0.1\n",
      "nr:  941\n",
      "0.5 time:  0.00271797180176 s\n",
      "1.0 time:  0.00703310966492 s\n",
      "1.5 time:  0.0205919742584 s\n",
      "D:  1.5\n",
      "Slope:  1\n",
      "nr:  941\n",
      "0.5 time:  0.00257802009583 s\n",
      "1.0 time:  0.00760388374329 s\n",
      "1.5 time:  0.0215308666229 s\n",
      "D:  1.5\n",
      "Slope:  10.0\n",
      "nr:  941\n",
      "0.5 time:  0.00239205360413 s\n",
      "1.0 time:  0.00706815719604 s\n",
      "1.5 time:  0.0200729370117 s\n",
      "D:  1.5\n",
      "Slope:  100.0\n",
      "nr:  941\n",
      "0.5 time:  0.0266401767731 s\n",
      "1.0 time:  0.00992584228516 s\n",
      "1.5 time:  0.0230929851532 s\n",
      "D:  1.5\n"
     ]
    }
   ],
   "source": [
    "slopes = [1e-4, 1e-3, 1e-2, 1e-1, 1, 1e1, 1e2]\n",
    "D_values = []\n",
    "\n",
    "for a in slopes:\n",
    "    print \"Slope: \", a\n",
    "    \n",
    "    \"Definition of linear density with current slope\"\n",
    "    def density_linear(lon, lat, height):\n",
    "        return a*height\n",
    "\n",
    "    \"Get optimal nr\"\n",
    "    nr_optimal = optimal_nr()\n",
    "    mesh_shape = (nr_optimal, 1, 1)\n",
    "\n",
    "    print \"nr: \", nr_optimal\n",
    "    \n",
    "    \"Get the true values for the potential\"\n",
    "    true_potential = true_potential_values()\n",
    "    \n",
    "    \"Get the best D for this slope\"\n",
    "    D_new = best_D_value()\n",
    "    D_values.append(D_new)\n",
    "    print \"D: \", D_new"
   ]
  },
  {
   "cell_type": "code",
   "execution_count": null,
   "metadata": {
    "collapsed": true
   },
   "outputs": [],
   "source": []
  }
 ],
 "metadata": {
  "kernelspec": {
   "display_name": "Python 2",
   "language": "python",
   "name": "python2"
  },
  "language_info": {
   "codemirror_mode": {
    "name": "ipython",
    "version": 2
   },
   "file_extension": ".py",
   "mimetype": "text/x-python",
   "name": "python",
   "nbconvert_exporter": "python",
   "pygments_lexer": "ipython2",
   "version": "2.7.13"
  }
 },
 "nbformat": 4,
 "nbformat_minor": 2
}
