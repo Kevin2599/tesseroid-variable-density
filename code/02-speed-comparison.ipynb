{
 "cells": [
  {
   "cell_type": "markdown",
   "metadata": {},
   "source": [
    "# Comparison of computation speeds between homogenous density tesseroid with variable density tesseroid\n",
    "\n",
    "**Import Packages**"
   ]
  },
  {
   "cell_type": "code",
   "execution_count": 1,
   "metadata": {
    "collapsed": true
   },
   "outputs": [],
   "source": [
    "from __future__ import division\n",
    "import timeit\n",
    "import numpy as np\n",
    "import pickle\n",
    "from fatiando import gridder\n",
    "from tesseroid_density import tesseroid\n",
    "from fatiando.mesher import Tesseroid, TesseroidMesh\n",
    "import matplotlib.pyplot as plt"
   ]
  },
  {
   "cell_type": "markdown",
   "metadata": {},
   "source": [
    "**Configure Plots**"
   ]
  },
  {
   "cell_type": "code",
   "execution_count": 2,
   "metadata": {
    "collapsed": true
   },
   "outputs": [],
   "source": [
    "%matplotlib inline\n",
    "plt.rcParams['axes.labelsize'] = 9.0 # fontsize of the x any y labels\n",
    "plt.rcParams['xtick.labelsize'] = 9.0 # fontsize of the tick labels\n",
    "plt.rcParams['ytick.labelsize'] = 9.0 # fontsize of the tick labels\n",
    "plt.rcParams['legend.fontsize'] = 9.0\n",
    "plt.rcParams['font.family'] = 'serif'\n",
    "plt.rcParams['font.serif'] = 'Computer Modern Roman'\n",
    "plt.rcParams['text.usetex'] = True # use latex for all text handling\n",
    "plt.rcParams['text.color'] = '3a3a3a'\n",
    "plt.rcParams['figure.facecolor'] = 'white'\n",
    "plt.rcParams['axes.linewidth'] = 1\n",
    "plt.rcParams['axes.edgecolor'] = '3a3a3a'\n",
    "plt.rcParams['axes.facecolor'] = 'white'\n",
    "plt.rcParams['lines.linewidth'] = 1\n",
    "plt.rcParams['lines.markersize'] = 4\n",
    "plt.rcParams['xtick.major.size'] = 2\n",
    "plt.rcParams['ytick.major.size'] = 2"
   ]
  },
  {
   "cell_type": "markdown",
   "metadata": {},
   "source": [
    "**Definition of tesseroid models: one with homogeneous density and other with variable density**"
   ]
  },
  {
   "cell_type": "code",
   "execution_count": 3,
   "metadata": {
    "collapsed": true
   },
   "outputs": [],
   "source": [
    "def density_linear(height):\n",
    "    return -(3300-2670)/35000.*height + 2670\n",
    "\n",
    "shape = (1, 1, 1)\n",
    "homogeneous_mesh = TesseroidMesh((-10, 10, -10, 10, 0, -50000), shape)\n",
    "variable_mesh = TesseroidMesh((-10, 10, -10, 10, 0, -50000), shape)\n",
    "\n",
    "homogeneous_mesh.addprop('density', 100*np.ones(homogeneous_mesh.size))\n",
    "variable_mesh.addprop('density', [density_linear for i in range(variable_mesh.size)])"
   ]
  },
  {
   "cell_type": "markdown",
   "metadata": {},
   "source": [
    "**Computation Speeds Comparison**"
   ]
  },
  {
   "cell_type": "code",
   "execution_count": 4,
   "metadata": {},
   "outputs": [
    {
     "name": "stderr",
     "output_type": "stream",
     "text": [
      "tesseroid_density/tesseroid.py:234: RuntimeWarning: Stopped dividing a tesseroid because it's dimensions would be below the minimum numerical threshold (1e-6 degrees or 1e-3 m). Will compute without division. Cannot guarantee the accuracy of the solution.\n",
      "  warnings.warn(warning_msg, RuntimeWarning)\n"
     ]
    }
   ],
   "source": [
    "fields = 'potential gz gzz'.split()\n",
    "lon, lat = np.array([0.]), np.array([0.])\n",
    "heights = np.array([2e3, 10e3, 50e3, 150e3, 260e3])\n",
    "runs = 5000\n",
    "\n",
    "times_homogeneous = {'heights': heights}\n",
    "times_variable = {'heights': heights}\n",
    "\n",
    "for field in fields:\n",
    "    times_homogeneous[field] = []\n",
    "    times_variable[field] = []\n",
    "    for height in heights:\n",
    "        h = np.array([height])\n",
    "        t = timeit.timeit('getattr(tesseroid, field)(lon, lat, h, homogeneous_mesh)',\n",
    "                          'from __main__ import tesseroid, field, lon, lat, h, homogeneous_mesh',\n",
    "                          number=runs)\n",
    "        t /= float(runs)\n",
    "        times_homogeneous[field].append(t)\n",
    "        t = timeit.timeit('getattr(tesseroid, field)(lon, lat, h, variable_mesh)',\n",
    "                          'from __main__ import tesseroid, field, lon, lat, h, variable_mesh',\n",
    "                          number=runs)\n",
    "        t /= float(runs)\n",
    "        times_variable[field].append(t)\n",
    "    times_homogeneous[field] = np.array(times_homogeneous[field])\n",
    "    times_variable[field] = np.array(times_variable[field])\n",
    "    \n",
    "## Save results in file\n",
    "with open('results/speed-comparison/times_homogeneous.pkl', 'w') as outfile:\n",
    "    pickle.dump(times_homogeneous, outfile)\n",
    "\n",
    "with open('results/speed-comparison/times_variable.pkl', 'w') as outfile:\n",
    "    pickle.dump(times_variable, outfile)"
   ]
  },
  {
   "cell_type": "markdown",
   "metadata": {},
   "source": [
    "**Plot Results**"
   ]
  },
  {
   "cell_type": "code",
   "execution_count": 5,
   "metadata": {},
   "outputs": [
    {
     "data": {
      "image/png": "[encoded data removed]",
      "text/plain": [
       "<matplotlib.figure.Figure at 0x7fe64bdb7850>"
      ]
     },
     "metadata": {},
     "output_type": "display_data"
    }
   ],
   "source": [
    "fields = 'potential gz gzz'.split()\n",
    "fig, axes = plt.subplots(nrows=len(fields), ncols=1, sharex=True)\n",
    "fig.set_size_inches((3.33, 6))\n",
    "fig.subplots_adjust(hspace=0.05)\n",
    "titles = r'$V$ $g_z$ $g_{zz}$'.split()\n",
    "\n",
    "for field, ax, title in zip(fields, axes, titles):\n",
    "    ax.plot(heights/1000, 1000*np.array(times_homogeneous[field]), \n",
    "            'o-', color='k', marker='o', label=\"Homogenous\")\n",
    "    ax.plot(heights/1000, 1000*np.array(times_variable[field]), \n",
    "            'o-', color='r', marker='D', label=\"Variable\")\n",
    "    ax.set_ylabel(\"Time [ms]\")\n",
    "    ax.text(0.5, 0.88, title, fontsize=11,\n",
    "            horizontalalignment='center',\n",
    "            verticalalignment='center',\n",
    "            bbox={'facecolor': 'w',\n",
    "                  'edgecolor': '#9b9b9b',\n",
    "                  'linewidth': 0.5, 'pad': 5},\n",
    "            transform=ax.transAxes)\n",
    "    ax.grid(True, linewidth=0.5, color='#aeaeae')\n",
    "\n",
    "plt.legend(loc=5)\n",
    "plt.xlabel('Height [km]')\n",
    "plt.show()"
   ]
  },
  {
   "cell_type": "code",
   "execution_count": null,
   "metadata": {
    "collapsed": true
   },
   "outputs": [],
   "source": []
  }
 ],
 "metadata": {
  "kernelspec": {
   "display_name": "Python 2",
   "language": "python",
   "name": "python2"
  },
  "language_info": {
   "codemirror_mode": {
    "name": "ipython",
    "version": 2
   },
   "file_extension": ".py",
   "mimetype": "text/x-python",
   "name": "python",
   "nbconvert_exporter": "python",
   "pygments_lexer": "ipython2",
   "version": "2.7.13"
  }
 },
 "nbformat": 4,
 "nbformat_minor": 2
}
