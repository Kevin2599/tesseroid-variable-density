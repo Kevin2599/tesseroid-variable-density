{
 "cells": [
  {
   "cell_type": "markdown",
   "metadata": {},
   "source": [
    "# Determination of ratio D in Forward Field Calculation using Variable Density Tesseroid\n",
    "\n",
    "Our intention is to determine the ratio D needed to get an acceptable precission in the calculation of gravity fields using tesseroids with variable density that depends linearly on depth.\n",
    "\n",
    "$\\rho(h) = a h + b$\n",
    "\n",
    "In order to do this, we are going to take into account an spherical shell with inner and outer radii $R_1$ and $R_2$, respectivetly. We will perform the fields calculation for different values of D and compare them with the analytical solutions obtained in the \"spherical_shell_variable_density\" notebook:\n",
    "\n",
    "\\begin{equation}\n",
    "V(r) = \\pi Ga \\frac{R_2^4 - R_1^4}{r} + \\frac{4}{3}\\pi G b\\frac{R_2^3 - R_1^3}{r}\n",
    "\\end{equation}\n",
    "\n",
    "Due to the nature of the numerical approximation of the tesseroid field by point masses located in the nodes of the GLQ, the fields can vary between computation points at the same height but at different longitude, latitude locations. Because of this we will evaluate the fields in a small grid and the comparation will be made by calculating the maximum difference between the analytical solution and these computation points.\n"
   ]
  },
  {
   "cell_type": "markdown",
   "metadata": {},
   "source": [
    "**Import Packages**"
   ]
  },
  {
   "cell_type": "code",
   "execution_count": 71,
   "metadata": {
    "collapsed": true
   },
   "outputs": [],
   "source": [
    "from __future__ import division\n",
    "import os\n",
    "import time\n",
    "import numpy as np\n",
    "from tesseroid_density import tesseroid\n",
    "from fatiando.constants import G, MEAN_EARTH_RADIUS, SI2MGAL, SI2EOTVOS\n",
    "from fatiando.mesher import Tesseroid, TesseroidMesh\n",
    "from fatiando import gridder\n",
    "import matplotlib.pyplot as plt\n",
    "\n",
    "%matplotlib inline"
   ]
  },
  {
   "cell_type": "markdown",
   "metadata": {},
   "source": [
    "**Configuration for Pyplot Figures**"
   ]
  },
  {
   "cell_type": "code",
   "execution_count": 32,
   "metadata": {
    "collapsed": false
   },
   "outputs": [],
   "source": [
    "plt.rcParams['axes.labelsize'] = 9.0 # fontsize of the x any y labels\n",
    "plt.rcParams['xtick.labelsize'] = 9.0 # fontsize of the tick labels\n",
    "plt.rcParams['ytick.labelsize'] = 9.0 # fontsize of the tick labels\n",
    "plt.rcParams['legend.fontsize'] = 9.0\n",
    "plt.rcParams['font.family'] = 'serif'\n",
    "plt.rcParams['font.serif'] = 'Computer Modern Roman'\n",
    "plt.rcParams['text.usetex'] = True # use latex for all text handling\n",
    "plt.rcParams['text.color'] = '3a3a3a'\n",
    "plt.rcParams['figure.facecolor'] = 'white'\n",
    "plt.rcParams['axes.linewidth'] = 1\n",
    "plt.rcParams['axes.edgecolor'] = '3a3a3a'\n",
    "plt.rcParams['axes.facecolor'] = 'white'\n",
    "plt.rcParams['lines.linewidth'] = 1\n",
    "plt.rcParams['lines.markersize'] = 4\n",
    "plt.rcParams['xtick.major.size'] = 2\n",
    "plt.rcParams['ytick.major.size'] = 2"
   ]
  },
  {
   "cell_type": "markdown",
   "metadata": {},
   "source": [
    "**Definition of linear density function**"
   ]
  },
  {
   "cell_type": "code",
   "execution_count": 2,
   "metadata": {
    "collapsed": true
   },
   "outputs": [],
   "source": [
    "a = 1\n",
    "b = 0\n",
    "\n",
    "def density_linear(height):\n",
    "    r = height + MEAN_EARTH_RADIUS\n",
    "    return a*r + b"
   ]
  },
  {
   "cell_type": "markdown",
   "metadata": {},
   "source": [
    "**Definition of spherical shell potential function**"
   ]
  },
  {
   "cell_type": "code",
   "execution_count": 3,
   "metadata": {
    "collapsed": true
   },
   "outputs": [],
   "source": [
    "def shell_linear_density(height, top, bottom, a, b):\n",
    "    r = height + MEAN_EARTH_RADIUS\n",
    "    r1 = bottom + MEAN_EARTH_RADIUS\n",
    "    r2 = top + MEAN_EARTH_RADIUS\n",
    "    constant = np.pi*G*a*(r2**4 - r1**4) + 4/3.*np.pi*G*b*(r2**3 - r1**3)\n",
    "    potential = constant/r\n",
    "    data = {'potential': potential,\n",
    "            'gx': 0,\n",
    "            'gy': 0,\n",
    "            'gz': SI2MGAL*(potential/r),\n",
    "            'gxx': SI2EOTVOS*(-potential/r**2),\n",
    "            'gxy': 0,\n",
    "            'gxz': 0,\n",
    "            'gyy': SI2EOTVOS*(-potential/r**2),\n",
    "            'gyz': 0,\n",
    "            'gzz': SI2EOTVOS*(2*potential/r**2)}\n",
    "    return data"
   ]
  },
  {
   "cell_type": "markdown",
   "metadata": {},
   "source": [
    "**Definition of Spherical Shell and Tesseroid Model**"
   ]
  },
  {
   "cell_type": "code",
   "execution_count": 4,
   "metadata": {
    "collapsed": true
   },
   "outputs": [],
   "source": [
    "top, bottom = -3000, -50000\n",
    "model = TesseroidMesh((0, 360, -90, 90, top, bottom), (1, 6, 12))\n",
    "model.addprop(\"density\", [density_linear for i in range(model.size)])"
   ]
  },
  {
   "cell_type": "markdown",
   "metadata": {},
   "source": [
    "**Determination of D for different grids**"
   ]
  },
  {
   "cell_type": "code",
   "execution_count": 91,
   "metadata": {
    "collapsed": false
   },
   "outputs": [],
   "source": [
    "shape = (10, 10)\n",
    "grids = {\"pole\": gridder.regular((89, 90, 0, 1), shape, z=2e3),\n",
    "         \"equator\": gridder.regular((0, 1, 0, 1), shape, z=2e3),\n",
    "         \"260km\": gridder.regular((89, 90, 0, 1), shape, z=260e3),\n",
    "         \"30deg\": gridder.regular((60, 90, 0, 30), shape, z=2e3)}\n",
    "fields = 'potential gz gzz'.split()\n",
    "D_values = np.arange(0.5, 10.5, 0.5)\n",
    "\n",
    "for field in fields:\n",
    "    for grid in grids.keys():\n",
    "        lons, lats, heights = grids[grid]\n",
    "        analytical = shell_linear_density(heights[0], top, bottom, a, b)\n",
    "        diffs = []\n",
    "        for D in D_values:\n",
    "            result = getattr(tesseroid, field)(lons, lats, heights, model, ratio=D)\n",
    "            diff = np.abs(result - analytical[field])/np.abs(analytical[field])\n",
    "            diff = 100*np.max(diff)\n",
    "            diffs.append(diff)\n",
    "        diffs = np.array(diffs)\n",
    "        np.savez('../data/' + field + '-' + grid + '-differences.npz',\n",
    "                 D_values=D_values, diffs=diffs)"
   ]
  },
  {
   "cell_type": "markdown",
   "metadata": {},
   "source": [
    "**Plot results**"
   ]
  },
  {
   "cell_type": "code",
   "execution_count": 119,
   "metadata": {
    "collapsed": false
   },
   "outputs": [
    {
     "data": {
      "image/png": "[encoded data removed]",
      "text/plain": [
       "<matplotlib.figure.Figure at 0x7f0eebf01690>"
      ]
     },
     "metadata": {},
     "output_type": "display_data"
    }
   ],
   "source": [
    "grids = ['pole', 'equator', '260km', '30deg']\n",
    "fields = 'potential gz gzz'.split()\n",
    "styles = ['-o', '-^', '-v', '-s']\n",
    "msize = [5, 4, 3, 2]\n",
    "colors = ['b', 'r', 'g', 'm']\n",
    "labels = [r'Pole', r'Equator', r'260 km', r'$30^\\circ$ size']\n",
    "titles = 'V gz gzz'.split()\n",
    "subfigure = '(a) (b) (c)'.split()\n",
    "\n",
    "fig, axes = plt.subplots(nrows=len(fields), ncols=1, sharex=True)\n",
    "fig.set_size_inches((3.33, 5))\n",
    "fig.subplots_adjust(hspace=0)\n",
    "for ax, field, title, sub in zip(axes, fields, titles, subfigure):\n",
    "    for grid, style, c, label, ms in zip(grids, styles, colors, labels, msize):\n",
    "        diffs = np.load('../data/' + field + '-' + grid + '-differences.npz')\n",
    "        D_values, analytical = diffs['D_values'], diffs['diffs']\n",
    "        ax.plot(D_values, analytical, style, markersize=ms,\n",
    "                color=c, label=label)\n",
    "        ax.text(-0.21, 0.9, sub, fontsize=12,\n",
    "                fontdict={'weight': 'bold'},\n",
    "                transform=ax.transAxes)\n",
    "        ax.text(0.5, 0.88, title, fontsize=11,\n",
    "                horizontalalignment='center',\n",
    "                verticalalignment='center',\n",
    "                bbox={'facecolor': 'w',\n",
    "                      'edgecolor': '#9b9b9b',\n",
    "                      'linewidth': 0.5, 'pad': 5},\n",
    "                transform=ax.transAxes)\n",
    "        ax.plot([-1, 11], [1e-1, 1e-1], '--',\n",
    "                color='k', linewidth=0.5)\n",
    "        ax.set_yscale('log')\n",
    "        ax.set_yticks(ax.get_yticks()[2:-2])\n",
    "        ax.set_ylabel('Difference (\\%)')\n",
    "        ax.grid(True, linewidth=0.5, color='#aeaeae')\n",
    "        ax.set_axisbelow(True)\n",
    "ax = axes[-1]\n",
    "ax.set_xlabel(r\"D\")\n",
    "ax.set_xlim(0, 10)\n",
    "ax.set_xticks(np.arange(0, 11, 1))\n",
    "ax.legend()\n",
    "plt.savefig('../figs/differences.svg')\n",
    "plt.show()"
   ]
  },
  {
   "cell_type": "code",
   "execution_count": null,
   "metadata": {
    "collapsed": true
   },
   "outputs": [],
   "source": []
  }
 ],
 "metadata": {
  "kernelspec": {
   "display_name": "Python 2",
   "language": "python",
   "name": "python2"
  },
  "language_info": {
   "codemirror_mode": {
    "name": "ipython",
    "version": 2
   },
   "file_extension": ".py",
   "mimetype": "text/x-python",
   "name": "python",
   "nbconvert_exporter": "python",
   "pygments_lexer": "ipython2",
   "version": "2.7.13"
  }
 },
 "nbformat": 4,
 "nbformat_minor": 2
}
