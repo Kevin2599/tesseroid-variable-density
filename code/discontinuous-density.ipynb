{
 "cells": [
  {
   "cell_type": "markdown",
   "metadata": {},
   "source": [
    "# Tesseroid with Discontinuous Density"
   ]
  },
  {
   "cell_type": "markdown",
   "metadata": {},
   "source": [
    "**Import Packages**"
   ]
  },
  {
   "cell_type": "code",
   "execution_count": 1,
   "metadata": {
    "collapsed": true
   },
   "outputs": [],
   "source": [
    "from __future__ import division\n",
    "import numpy as np\n",
    "from tesseroid_density import tesseroid\n",
    "from fatiando.constants import G, MEAN_EARTH_RADIUS, SI2MGAL, SI2EOTVOS\n",
    "from fatiando.mesher import Tesseroid, TesseroidMesh\n",
    "from fatiando import gridder\n",
    "import matplotlib.pyplot as plt"
   ]
  },
  {
   "cell_type": "markdown",
   "metadata": {},
   "source": [
    "**Configuration for Pyplot Figures**"
   ]
  },
  {
   "cell_type": "code",
   "execution_count": 2,
   "metadata": {
    "collapsed": true
   },
   "outputs": [],
   "source": [
    "%matplotlib inline\n",
    "plt.rcParams['axes.labelsize'] = 9.0 # fontsize of the x any y labels\n",
    "plt.rcParams['xtick.labelsize'] = 9.0 # fontsize of the tick labels\n",
    "plt.rcParams['ytick.labelsize'] = 9.0 # fontsize of the tick labels\n",
    "plt.rcParams['legend.fontsize'] = 9.0\n",
    "plt.rcParams['font.family'] = 'serif'\n",
    "plt.rcParams['font.serif'] = 'Computer Modern Roman'\n",
    "plt.rcParams['text.usetex'] = True # use latex for all text handling\n",
    "plt.rcParams['text.color'] = '3a3a3a'\n",
    "plt.rcParams['figure.facecolor'] = 'white'\n",
    "plt.rcParams['axes.linewidth'] = 1\n",
    "plt.rcParams['axes.edgecolor'] = '3a3a3a'\n",
    "plt.rcParams['axes.facecolor'] = 'white'\n",
    "plt.rcParams['lines.linewidth'] = 1\n",
    "plt.rcParams['lines.markersize'] = 4\n",
    "plt.rcParams['xtick.major.size'] = 2\n",
    "plt.rcParams['ytick.major.size'] = 2"
   ]
  },
  {
   "cell_type": "markdown",
   "metadata": {},
   "source": [
    "## One discontinuity\n",
    "\n",
    "Lets consider a spherical shell with internal and external radii $R_1$ and $R_2$, respectively, with a discontinuous density defined as follows:\n",
    "\n",
    "\\begin{equation}\n",
    "\\rho(r') =\n",
    "    \\begin{cases}\n",
    "    \\rho_1 & R_1 \\leq r' < R_c \\\\\n",
    "    \\rho_2 & R_c \\leq r' \\leq R_2 \\\\\n",
    "    \\end{cases}\n",
    "\\end{equation}\n",
    "\n",
    "with $R_c = (R_1 + R_2)/2$ being the center radius of the shell. \n",
    "\n",
    "**Definition of discontinuous density**"
   ]
  },
  {
   "cell_type": "code",
   "execution_count": 3,
   "metadata": {
    "collapsed": true
   },
   "outputs": [],
   "source": [
    "rho_1, rho_2 = 2900, 2670\n",
    "thickness = 1000.\n",
    "R2 = MEAN_EARTH_RADIUS\n",
    "R1 = R2 - thickness\n",
    "Rc = R2 - thickness/2.\n",
    "\n",
    "def discontinuous_density(height):\n",
    "    r = height + MEAN_EARTH_RADIUS\n",
    "    if R1 <= r and r < Rc:\n",
    "        return rho_1\n",
    "    elif Rc <= r and r <= R2:\n",
    "        return rho_2"
   ]
  },
  {
   "cell_type": "markdown",
   "metadata": {},
   "source": [
    "**Analytical solution for spherical shell**"
   ]
  },
  {
   "cell_type": "code",
   "execution_count": 4,
   "metadata": {
    "collapsed": true
   },
   "outputs": [],
   "source": [
    "def shell_discontinuous_density(height, R1, R2, Rc, rho_1, rho_2):\n",
    "    r = height + MEAN_EARTH_RADIUS\n",
    "    constant = 4/3*np.pi*G*(rho_1*(Rc**3 - R1**3) + rho_2*(R2**3 - Rc**3))\n",
    "    potential = constant/r\n",
    "    data = {'potential': potential,\n",
    "            'gx': 0,\n",
    "            'gy': 0,\n",
    "            'gz': SI2MGAL*(potential/r),\n",
    "            'gxx': SI2EOTVOS*(-potential/r**2),\n",
    "            'gxy': 0,\n",
    "            'gxz': 0,\n",
    "            'gyy': SI2EOTVOS*(-potential/r**2),\n",
    "            'gyz': 0,\n",
    "            'gzz': SI2EOTVOS*(2*potential/r**2)}\n",
    "    return data"
   ]
  },
  {
   "cell_type": "markdown",
   "metadata": {},
   "source": [
    "**Definition of shell model**"
   ]
  },
  {
   "cell_type": "code",
   "execution_count": 5,
   "metadata": {
    "collapsed": true
   },
   "outputs": [],
   "source": [
    "top, bottom = 0, -1000\n",
    "model = TesseroidMesh((0, 360, -90, 90, top, bottom), (1, 6, 12))\n",
    "model.addprop(\"density\", [discontinuous_density for i in range(model.size)])"
   ]
  },
  {
   "cell_type": "code",
   "execution_count": 6,
   "metadata": {},
   "outputs": [
    {
     "name": "stderr",
     "output_type": "stream",
     "text": [
      "tesseroid_density/tesseroid.py:234: RuntimeWarning: Stopped dividing a tesseroid because it's dimensions would be below the minimum numerical threshold (1e-6 degrees or 1e-3 m). Will compute without division. Cannot guarantee the accuracy of the solution.\n",
      "  warnings.warn(warning_msg, RuntimeWarning)\n"
     ]
    }
   ],
   "source": [
    "shape = (10, 10)\n",
    "grids = {\"pole\": gridder.regular((89, 90, 0, 1), shape, z=2e3),\n",
    "         \"equator\": gridder.regular((0, 1, 0, 1), shape, z=2e3),\n",
    "         \"260km\": gridder.regular((89, 90, 0, 1), shape, z=260e3),\n",
    "         \"30deg\": gridder.regular((60, 90, 0, 30), shape, z=2e3)}\n",
    "fields = 'potential gz gzz'.split()\n",
    "D_values = np.arange(0.5, 10.5, 0.5)\n",
    "\n",
    "for field in fields:\n",
    "    for grid in grids.keys():\n",
    "        lons, lats, heights = grids[grid]\n",
    "        analytical = shell_discontinuous_density(heights[0], R1, R2, Rc, rho_1, rho_2)\n",
    "        diffs = []\n",
    "        for D in D_values:\n",
    "            result = getattr(tesseroid, field)(lons, lats, heights, model, ratio=D)\n",
    "            diff = np.abs(result - analytical[field])/np.abs(analytical[field])\n",
    "            diff = 100*np.max(diff)\n",
    "            diffs.append(diff)\n",
    "        diffs = np.array(diffs)\n",
    "        np.savez('results/Ddiscontinuous/' + field + '-' + grid + '-differences.npz',\n",
    "                 D_values=D_values, diffs=diffs)"
   ]
  },
  {
   "cell_type": "code",
   "execution_count": 7,
   "metadata": {
    "scrolled": true
   },
   "outputs": [
    {
     "data": {
      "image/png": "[encoded data removed]",
      "text/plain": [
       "<matplotlib.figure.Figure at 0x7f71bc4dd990>"
      ]
     },
     "metadata": {},
     "output_type": "display_data"
    }
   ],
   "source": [
    "grids = ['pole', 'equator', '260km', '30deg']\n",
    "fields = 'potential gz gzz'.split()\n",
    "styles = ['-o', '-^', '-v', '-s']\n",
    "msize = [5, 4, 3, 2]\n",
    "colors = ['b', 'r', 'g', 'm']\n",
    "labels = [r'Pole', r'Equator', r'260 km', r'$30^\\circ$ size']\n",
    "titles = 'V gz gzz'.split()\n",
    "subfigure = '(a) (b) (c)'.split()\n",
    "\n",
    "fig, axes = plt.subplots(nrows=len(fields), ncols=1, sharex=True)\n",
    "fig.set_size_inches((3.33, 5))\n",
    "fig.subplots_adjust(hspace=0)\n",
    "for ax, field, title, sub in zip(axes, fields, titles, subfigure):\n",
    "    for grid, style, c, label, ms in zip(grids, styles, colors, labels, msize):\n",
    "        diffs = np.load('results/Ddiscontinuous/' + field + '-' + grid + '-differences.npz')\n",
    "        D_values, diff = diffs['D_values'], diffs['diffs']\n",
    "        ax.plot(D_values, diff, style, markersize=ms,\n",
    "                color=c, label=label)\n",
    "        ax.text(-0.21, 0.9, sub, fontsize=12,\n",
    "                fontdict={'weight': 'bold'},\n",
    "                transform=ax.transAxes)\n",
    "        ax.text(0.5, 0.88, title, fontsize=11,\n",
    "                horizontalalignment='center',\n",
    "                verticalalignment='center',\n",
    "                bbox={'facecolor': 'w',\n",
    "                      'edgecolor': '#9b9b9b',\n",
    "                      'linewidth': 0.5, 'pad': 5},\n",
    "                transform=ax.transAxes)\n",
    "        ax.plot([0, 10], [1e-1, 1e-1], '--',\n",
    "                color='k', linewidth=0.5)\n",
    "        ax.set_yscale('log')\n",
    "        ax.set_yticks(ax.get_yticks()[2:-2])\n",
    "        ax.set_ylabel('Difference (\\%)')\n",
    "        ax.grid(True, linewidth=0.5, color='#aeaeae')\n",
    "        ax.set_axisbelow(True)\n",
    "ax = axes[-1]\n",
    "ax.set_xlabel(r\"D\")\n",
    "ax.set_xlim(0, 10)\n",
    "ax.set_xticks(np.arange(0, 11, 1))\n",
    "ax.legend()\n",
    "plt.tight_layout(pad=0.3, h_pad=0, w_pad=0)\n",
    "plt.show()"
   ]
  },
  {
   "cell_type": "markdown",
   "metadata": {},
   "source": [
    "## Two discontinuities\n",
    "\n",
    "Now consider that the previous spherical shell has a density with two discontinuities:\n",
    "\n",
    "\\begin{equation}\n",
    "\\rho(r') =\n",
    "    \\begin{cases}\n",
    "    \\rho_1 & R_1 \\leq r' < R_a \\\\\n",
    "    \\rho_2 & R_a \\leq r' < R_b \\\\\n",
    "    \\rho_3 & R_b \\leq r' \\leq R_2 \\\\\n",
    "    \\end{cases}\n",
    "\\end{equation}\n",
    "\n",
    "with $R_1 < R_a < R_b < R_2$.\n",
    "\n",
    "**Definition of discontinuous density**"
   ]
  },
  {
   "cell_type": "code",
   "execution_count": 4,
   "metadata": {
    "collapsed": true
   },
   "outputs": [],
   "source": [
    "rho_1, rho_2, rho_3 = 2900, 2670, 2300\n",
    "thickness = 35000.\n",
    "R2 = MEAN_EARTH_RADIUS\n",
    "R1 = R2 - thickness\n",
    "Ra = R1 + 1/3.*thickness\n",
    "Rb = R1 + 2/3.*thickness\n",
    "\n",
    "def discontinuous_2_density(height):\n",
    "    r = height + MEAN_EARTH_RADIUS\n",
    "    if R1 <= r and r < Ra:\n",
    "        return rho_1\n",
    "    if Ra <= r and r < Rb:\n",
    "        return rho_2\n",
    "    elif Rc <= r and r <= R2:\n",
    "        return rho_3"
   ]
  },
  {
   "cell_type": "markdown",
   "metadata": {},
   "source": [
    "**Analytical solution for spherical shell**"
   ]
  },
  {
   "cell_type": "code",
   "execution_count": 5,
   "metadata": {
    "collapsed": true
   },
   "outputs": [],
   "source": [
    "def shell_discontinuous_2_density(height, R1, R2, Ra, Rb, rho_1, rho_2, rho_3):\n",
    "    r = height + MEAN_EARTH_RADIUS\n",
    "    constant = 4/3*np.pi*G*(rho_1*(Ra**3 - R1**3) + \n",
    "                            rho_2*(Rb**3 - Ra**3) + \n",
    "                            rho_3*(R2**3 - Rb**3))\n",
    "    potential = constant/r\n",
    "    data = {'potential': potential,\n",
    "            'gx': 0,\n",
    "            'gy': 0,\n",
    "            'gz': SI2MGAL*(potential/r),\n",
    "            'gxx': SI2EOTVOS*(-potential/r**2),\n",
    "            'gxy': 0,\n",
    "            'gxz': 0,\n",
    "            'gyy': SI2EOTVOS*(-potential/r**2),\n",
    "            'gyz': 0,\n",
    "            'gzz': SI2EOTVOS*(2*potential/r**2)}\n",
    "    return data"
   ]
  },
  {
   "cell_type": "markdown",
   "metadata": {},
   "source": [
    "**Definition of shell model**"
   ]
  },
  {
   "cell_type": "code",
   "execution_count": 6,
   "metadata": {
    "collapsed": true
   },
   "outputs": [],
   "source": [
    "top, bottom = 0, -35000\n",
    "model = TesseroidMesh((0, 360, -90, 90, top, bottom), (1, 6, 12))\n",
    "model.addprop(\"density\", [discontinuous_2_density for i in range(model.size)])"
   ]
  },
  {
   "cell_type": "code",
   "execution_count": null,
   "metadata": {},
   "outputs": [
    {
     "name": "stderr",
     "output_type": "stream",
     "text": []
    }
   ],
   "source": [
    "shape = (10, 10)\n",
    "grids = {\"pole\": gridder.regular((89, 90, 0, 1), shape, z=2e3),\n",
    "         \"equator\": gridder.regular((0, 1, 0, 1), shape, z=2e3),\n",
    "         \"260km\": gridder.regular((89, 90, 0, 1), shape, z=260e3),\n",
    "         \"30deg\": gridder.regular((60, 90, 0, 30), shape, z=2e3)}\n",
    "fields = 'potential gz gzz'.split()\n",
    "D_values = np.arange(0.5, 10.5, 0.5)\n",
    "\n",
    "for field in fields:\n",
    "    for grid in grids.keys():\n",
    "        lons, lats, heights = grids[grid]\n",
    "        analytical = shell_discontinuous_2_density(heights[0], \n",
    "                                                   R1, R2, Ra, Rb, \n",
    "                                                   rho_1, rho_2, rho_3)\n",
    "        diffs = []\n",
    "        for D in D_values:\n",
    "            result = getattr(tesseroid, field)(lons, lats, heights, model, ratio=D)\n",
    "            diff = np.abs(result - analytical[field])/np.abs(analytical[field])\n",
    "            diff = 100*np.max(diff)\n",
    "            diffs.append(diff)\n",
    "        diffs = np.array(diffs)\n",
    "        np.savez('results/Ddiscontinuous/' + field + '-' + grid + '-2-differences.npz',\n",
    "                 D_values=D_values, diffs=diffs)"
   ]
  },
  {
   "cell_type": "code",
   "execution_count": null,
   "metadata": {
    "collapsed": true,
    "scrolled": true
   },
   "outputs": [],
   "source": [
    "grids = ['pole', 'equator', '260km', '30deg']\n",
    "fields = 'potential gz gzz'.split()\n",
    "styles = ['-o', '-^', '-v', '-s']\n",
    "msize = [5, 4, 3, 2]\n",
    "colors = ['b', 'r', 'g', 'm']\n",
    "labels = [r'Pole', r'Equator', r'260 km', r'$30^\\circ$ size']\n",
    "titles = 'V gz gzz'.split()\n",
    "subfigure = '(a) (b) (c)'.split()\n",
    "\n",
    "fig, axes = plt.subplots(nrows=len(fields), ncols=1, sharex=True)\n",
    "fig.set_size_inches((3.33, 5))\n",
    "fig.subplots_adjust(hspace=0)\n",
    "for ax, field, title, sub in zip(axes, fields, titles, subfigure):\n",
    "    for grid, style, c, label, ms in zip(grids, styles, colors, labels, msize):\n",
    "        diffs = np.load('results/Ddiscontinuous/' + field + '-' + grid + '-2-differences.npz')\n",
    "        D_values, diff = diffs['D_values'], diffs['diffs']\n",
    "        ax.plot(D_values, diff, style, markersize=ms,\n",
    "                color=c, label=label)\n",
    "        ax.text(-0.21, 0.9, sub, fontsize=12,\n",
    "                fontdict={'weight': 'bold'},\n",
    "                transform=ax.transAxes)\n",
    "        ax.text(0.5, 0.88, title, fontsize=11,\n",
    "                horizontalalignment='center',\n",
    "                verticalalignment='center',\n",
    "                bbox={'facecolor': 'w',\n",
    "                      'edgecolor': '#9b9b9b',\n",
    "                      'linewidth': 0.5, 'pad': 5},\n",
    "                transform=ax.transAxes)\n",
    "        ax.plot([0, 10], [1e-1, 1e-1], '--',\n",
    "                color='k', linewidth=0.5)\n",
    "        ax.set_yscale('log')\n",
    "        ax.set_yticks(ax.get_yticks()[2:-2])\n",
    "        ax.set_ylabel('Difference (\\%)')\n",
    "        ax.grid(True, linewidth=0.5, color='#aeaeae')\n",
    "        ax.set_axisbelow(True)\n",
    "ax = axes[-1]\n",
    "ax.set_xlabel(r\"D\")\n",
    "ax.set_xlim(0, 10)\n",
    "ax.set_xticks(np.arange(0, 11, 1))\n",
    "ax.legend()\n",
    "plt.tight_layout(pad=0.3, h_pad=0, w_pad=0)\n",
    "plt.show()"
   ]
  },
  {
   "cell_type": "code",
   "execution_count": null,
   "metadata": {
    "collapsed": true
   },
   "outputs": [],
   "source": []
  }
 ],
 "metadata": {
  "kernelspec": {
   "display_name": "Python 2",
   "language": "python",
   "name": "python2"
  },
  "language_info": {
   "codemirror_mode": {
    "name": "ipython",
    "version": 2
   },
   "file_extension": ".py",
   "mimetype": "text/x-python",
   "name": "python",
   "nbconvert_exporter": "python",
   "pygments_lexer": "ipython2",
   "version": "2.7.13"
  }
 },
 "nbformat": 4,
 "nbformat_minor": 2
}
