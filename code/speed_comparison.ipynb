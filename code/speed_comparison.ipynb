{
 "cells": [
  {
   "cell_type": "markdown",
   "metadata": {},
   "source": [
    "# Comparison of computation speeds between homogenous density tesseroid with variable density tesseroid\n",
    "\n",
    "**Import Packages**"
   ]
  },
  {
   "cell_type": "code",
   "execution_count": 1,
   "metadata": {
    "collapsed": true
   },
   "outputs": [],
   "source": [
    "from __future__ import division\n",
    "import time\n",
    "import numpy as np\n",
    "from fatiando import gridder\n",
    "from tesseroid_density import tesseroid\n",
    "from fatiando.mesher import Tesseroid\n",
    "import matplotlib.pyplot as plt"
   ]
  },
  {
   "cell_type": "code",
   "execution_count": 2,
   "metadata": {
    "collapsed": true
   },
   "outputs": [],
   "source": [
    "%matplotlib inline\n",
    "plt.rcParams['axes.labelsize'] = 9.0 # fontsize of the x any y labels\n",
    "plt.rcParams['xtick.labelsize'] = 9.0 # fontsize of the tick labels\n",
    "plt.rcParams['ytick.labelsize'] = 9.0 # fontsize of the tick labels\n",
    "plt.rcParams['legend.fontsize'] = 9.0\n",
    "plt.rcParams['font.family'] = 'serif'\n",
    "plt.rcParams['font.serif'] = 'Computer Modern Roman'\n",
    "plt.rcParams['text.usetex'] = True # use latex for all text handling\n",
    "plt.rcParams['text.color'] = '3a3a3a'\n",
    "plt.rcParams['figure.facecolor'] = 'white'\n",
    "plt.rcParams['axes.linewidth'] = 1\n",
    "plt.rcParams['axes.edgecolor'] = '3a3a3a'\n",
    "plt.rcParams['axes.facecolor'] = 'white'\n",
    "plt.rcParams['lines.linewidth'] = 1\n",
    "plt.rcParams['lines.markersize'] = 4\n",
    "plt.rcParams['xtick.major.size'] = 2\n",
    "plt.rcParams['ytick.major.size'] = 2"
   ]
  },
  {
   "cell_type": "code",
   "execution_count": 3,
   "metadata": {},
   "outputs": [],
   "source": [
    "def density_linear(h):\n",
    "    return -(3300-2670)/35000.*h - 2670\n",
    "\n",
    "homogeneous = Tesseroid(-10, 10, -10, -10, 0, -50000, props={'density': 100})\n",
    "variable = Tesseroid(-10, 10, -10, -10, 0, -50000, props={'density': density_linear})"
   ]
  },
  {
   "cell_type": "code",
   "execution_count": 17,
   "metadata": {},
   "outputs": [
    {
     "name": "stdout",
     "output_type": "stream",
     "text": [
      "[0.00010013580322265625, 6.008148193359375e-05, 9.298324584960938e-05, 5.602836608886719e-05, 6.198883056640625e-05, 4.38690185546875e-05, 4.38690185546875e-05, 4.410743713378906e-05, 4.410743713378906e-05, 4.410743713378906e-05, 4.315376281738281e-05, 4.291534423828125e-05, 4.291534423828125e-05, 4.410743713378906e-05, 4.315376281738281e-05, 4.291534423828125e-05, 4.1961669921875e-05, 4.410743713378906e-05, 5.5789947509765625e-05, 4.410743713378906e-05, 4.38690185546875e-05, 4.38690185546875e-05, 4.291534423828125e-05, 4.410743713378906e-05, 4.315376281738281e-05, 4.38690185546875e-05, 4.291534423828125e-05, 4.291534423828125e-05, 4.315376281738281e-05, 4.291534423828125e-05, 4.38690185546875e-05, 4.410743713378906e-05, 4.410743713378906e-05, 4.291534423828125e-05, 4.410743713378906e-05, 4.291534423828125e-05, 4.482269287109375e-05, 4.220008850097656e-05, 4.506111145019531e-05, 4.315376281738281e-05, 4.696846008300781e-05, 4.1961669921875e-05, 4.8160552978515625e-05, 4.291534423828125e-05, 4.792213439941406e-05, 4.315376281738281e-05, 4.792213439941406e-05, 4.291534423828125e-05, 4.792213439941406e-05, 4.315376281738281e-05, 4.601478576660156e-05, 4.291534423828125e-05, 4.696846008300781e-05, 4.291534423828125e-05, 4.696846008300781e-05, 4.1961669921875e-05, 4.696846008300781e-05, 4.315376281738281e-05, 4.696846008300781e-05, 4.291534423828125e-05, 4.696846008300781e-05, 4.100799560546875e-05, 4.601478576660156e-05, 4.00543212890625e-05, 4.601478576660156e-05, 4.00543212890625e-05, 4.601478576660156e-05, 0.00012302398681640625, 4.696846008300781e-05, 6.198883056640625e-05, 4.506111145019531e-05, 4.38690185546875e-05, 4.38690185546875e-05, 4.291534423828125e-05, 4.315376281738281e-05, 4.291534423828125e-05, 4.291534423828125e-05, 4.1961669921875e-05, 4.315376281738281e-05, 4.291534423828125e-05, 4.410743713378906e-05, 4.1961669921875e-05, 4.38690185546875e-05, 4.220008850097656e-05, 4.38690185546875e-05, 4.291534423828125e-05, 4.410743713378906e-05, 4.1961669921875e-05, 4.38690185546875e-05, 4.220008850097656e-05, 4.291534423828125e-05, 4.291534423828125e-05, 5.412101745605469e-05, 4.1961669921875e-05, 4.076957702636719e-05, 4.100799560546875e-05, 4.1961669921875e-05, 4.100799560546875e-05, 4.1961669921875e-05, 4.291534423828125e-05]\n"
     ]
    }
   ],
   "source": [
    "import timeit\n",
    "\n",
    "lon, lat = np.array([0.]), np.array([0.])\n",
    "#heights = [2e3, 10e3, 50e3, 260e3]\n",
    "heights = [2e3]\n",
    "\n",
    "for height in heights:\n",
    "    h = np.array([height])\n",
    "    t = timeit.repeat('tesseroid.potential(lon, lat, h, [homogeneous])',\n",
    "                      'from __main__ import tesseroid, lon, lat, h, homogeneous',\n",
    "                      number=1, repeat=100)\n",
    "    print t"
   ]
  },
  {
   "cell_type": "code",
   "execution_count": 18,
   "metadata": {},
   "outputs": [
    {
     "data": {
      "text/plain": [
       "4.6415328979492189e-05"
      ]
     },
     "execution_count": 18,
     "metadata": {},
     "output_type": "execute_result"
    }
   ],
   "source": [
    "np.array(t).mean()"
   ]
  },
  {
   "cell_type": "code",
   "execution_count": 54,
   "metadata": {},
   "outputs": [
    {
     "name": "stdout",
     "output_type": "stream",
     "text": [
      "CPU times: user 0 ns, sys: 0 ns, total: 0 ns\n",
      "Wall time: 122 µs\n",
      "CPU times: user 0 ns, sys: 0 ns, total: 0 ns\n",
      "Wall time: 93.9 µs\n",
      "CPU times: user 0 ns, sys: 0 ns, total: 0 ns\n",
      "Wall time: 103 µs\n",
      "CPU times: user 0 ns, sys: 0 ns, total: 0 ns\n",
      "Wall time: 113 µs\n",
      "CPU times: user 0 ns, sys: 0 ns, total: 0 ns\n",
      "Wall time: 113 µs\n",
      "CPU times: user 0 ns, sys: 0 ns, total: 0 ns\n",
      "Wall time: 101 µs\n",
      "CPU times: user 0 ns, sys: 0 ns, total: 0 ns\n",
      "Wall time: 99.9 µs\n",
      "CPU times: user 0 ns, sys: 0 ns, total: 0 ns\n",
      "Wall time: 85.1 µs\n",
      "CPU times: user 0 ns, sys: 0 ns, total: 0 ns\n",
      "Wall time: 115 µs\n",
      "CPU times: user 0 ns, sys: 0 ns, total: 0 ns\n",
      "Wall time: 134 µs\n",
      "CPU times: user 0 ns, sys: 0 ns, total: 0 ns\n",
      "Wall time: 86.1 µs\n",
      "CPU times: user 0 ns, sys: 0 ns, total: 0 ns\n",
      "Wall time: 92 µs\n",
      "CPU times: user 0 ns, sys: 0 ns, total: 0 ns\n",
      "Wall time: 98.9 µs\n",
      "CPU times: user 0 ns, sys: 0 ns, total: 0 ns\n",
      "Wall time: 171 µs\n",
      "CPU times: user 0 ns, sys: 0 ns, total: 0 ns\n",
      "Wall time: 115 µs\n",
      "CPU times: user 0 ns, sys: 0 ns, total: 0 ns\n",
      "Wall time: 115 µs\n",
      "CPU times: user 0 ns, sys: 0 ns, total: 0 ns\n",
      "Wall time: 125 µs\n",
      "CPU times: user 0 ns, sys: 0 ns, total: 0 ns\n",
      "Wall time: 112 µs\n",
      "CPU times: user 0 ns, sys: 0 ns, total: 0 ns\n",
      "Wall time: 113 µs\n",
      "CPU times: user 0 ns, sys: 0 ns, total: 0 ns\n",
      "Wall time: 188 µs\n",
      "CPU times: user 0 ns, sys: 0 ns, total: 0 ns\n",
      "Wall time: 124 µs\n",
      "CPU times: user 0 ns, sys: 0 ns, total: 0 ns\n",
      "Wall time: 127 µs\n",
      "CPU times: user 0 ns, sys: 0 ns, total: 0 ns\n",
      "Wall time: 55.1 µs\n",
      "CPU times: user 0 ns, sys: 0 ns, total: 0 ns\n",
      "Wall time: 57 µs\n"
     ]
    }
   ],
   "source": [
    "lon, lat = np.array([0.]), np.array([0.])\n",
    "heights = [2e3, 10e3, 50e3, 260e3]\n",
    "#heights = [2e3]\n",
    "\n",
    "fields = 'potential gz gzz'.split()\n",
    "times_homogeneous = {}\n",
    "times_variable = {}\n",
    "number_of_runs = 100\n",
    "\n",
    "for field in fields:\n",
    "    times_homogeneous[field] = []\n",
    "    times_variable[field] = []\n",
    "    for height in heights:\n",
    "        h = np.array([height])\n",
    "        \n",
    "        times = []\n",
    "        for i in range(number_of_runs):\n",
    "            st = time.time()\n",
    "            if i==0:\n",
    "                %time result = getattr(tesseroid, field)(lon, lat, h, [homogeneous])\n",
    "            else:\n",
    "                result = getattr(tesseroid, field)(lon, lat, h, [homogeneous])\n",
    "            times.append(time.time() - st)\n",
    "        mean_time = np.mean(times)\n",
    "        times_homogeneous[field].append(mean_time)\n",
    "        \n",
    "        times = []\n",
    "        for i in range(number_of_runs):\n",
    "            st = time.time()\n",
    "            if i == 0:\n",
    "                %time result = getattr(tesseroid, field)(lon, lat, h, [variable])\n",
    "            else:\n",
    "                result = getattr(tesseroid, field)(lon, lat, h, [variable])\n",
    "            times.append(time.time() - st)\n",
    "        mean_time = np.mean(times)\n",
    "        times_variable[field].append(mean_time)"
   ]
  },
  {
   "cell_type": "code",
   "execution_count": 50,
   "metadata": {},
   "outputs": [
    {
     "name": "stdout",
     "output_type": "stream",
     "text": [
      "{'potential': [0.0018887543678283692], 'gzz': [0.0010703897476196289], 'gz': [0.00094624519348144535]}\n",
      "{'potential': [0.0013394594192504884], 'gzz': [0.0013293099403381347], 'gz': [0.00091148853302001952]}\n"
     ]
    }
   ],
   "source": [
    "print times_homogeneous\n",
    "print times_variable"
   ]
  },
  {
   "cell_type": "code",
   "execution_count": 52,
   "metadata": {},
   "outputs": [
    {
     "data": {
      "image/png": "[encoded data removed]",
      "text/plain": [
       "<matplotlib.figure.Figure at 0x7f62a3883950>"
      ]
     },
     "metadata": {},
     "output_type": "display_data"
    }
   ],
   "source": [
    "fields = 'potential gz gzz'.split()\n",
    "fig, axes = plt.subplots(nrows=len(fields), ncols=1, sharex=True)\n",
    "fig.set_size_inches((3.33, 5))\n",
    "fig.subplots_adjust(hspace=0)\n",
    "\n",
    "for field, ax in zip(fields, axes):\n",
    "    ax.plot(heights, np.array(times_homogeneous[field])*1e6, 'o-', color='k')\n",
    "    ax.plot(heights, np.array(times_variable[field])*1e6, 'o-', color='r')\n",
    "\n",
    "    \n",
    "    #ax.set_yscale('log')\n",
    "plt.show()"
   ]
  },
  {
   "cell_type": "code",
   "execution_count": null,
   "metadata": {
    "collapsed": true
   },
   "outputs": [],
   "source": []
  }
 ],
 "metadata": {
  "kernelspec": {
   "display_name": "Python 2",
   "language": "python",
   "name": "python2"
  },
  "language_info": {
   "codemirror_mode": {
    "name": "ipython",
    "version": 2
   },
   "file_extension": ".py",
   "mimetype": "text/x-python",
   "name": "python",
   "nbconvert_exporter": "python",
   "pygments_lexer": "ipython2",
   "version": "2.7.13"
  }
 },
 "nbformat": 4,
 "nbformat_minor": 2
}
