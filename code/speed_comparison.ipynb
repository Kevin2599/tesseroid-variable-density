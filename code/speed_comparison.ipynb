{
 "cells": [
  {
   "cell_type": "markdown",
   "metadata": {},
   "source": [
    "# Comparison of computation speeds between homogenous density tesseroid with variable density tesseroid\n",
    "\n",
    "**Import Packages**"
   ]
  },
  {
   "cell_type": "code",
   "execution_count": 1,
   "metadata": {
    "collapsed": true
   },
   "outputs": [],
   "source": [
    "from __future__ import division\n",
    "import timeit\n",
    "import numpy as np\n",
    "from fatiando import gridder\n",
    "from tesseroid_density import tesseroid\n",
    "from fatiando.mesher import Tesseroid, TesseroidMesh\n",
    "import matplotlib.pyplot as plt"
   ]
  },
  {
   "cell_type": "code",
   "execution_count": 2,
   "metadata": {
    "collapsed": true
   },
   "outputs": [],
   "source": [
    "%matplotlib inline\n",
    "plt.rcParams['axes.labelsize'] = 9.0 # fontsize of the x any y labels\n",
    "plt.rcParams['xtick.labelsize'] = 9.0 # fontsize of the tick labels\n",
    "plt.rcParams['ytick.labelsize'] = 9.0 # fontsize of the tick labels\n",
    "plt.rcParams['legend.fontsize'] = 9.0\n",
    "plt.rcParams['font.family'] = 'serif'\n",
    "plt.rcParams['font.serif'] = 'Computer Modern Roman'\n",
    "plt.rcParams['text.usetex'] = True # use latex for all text handling\n",
    "plt.rcParams['text.color'] = '3a3a3a'\n",
    "plt.rcParams['figure.facecolor'] = 'white'\n",
    "plt.rcParams['axes.linewidth'] = 1\n",
    "plt.rcParams['axes.edgecolor'] = '3a3a3a'\n",
    "plt.rcParams['axes.facecolor'] = 'white'\n",
    "plt.rcParams['lines.linewidth'] = 1\n",
    "plt.rcParams['lines.markersize'] = 4\n",
    "plt.rcParams['xtick.major.size'] = 2\n",
    "plt.rcParams['ytick.major.size'] = 2"
   ]
  },
  {
   "cell_type": "code",
   "execution_count": 4,
   "metadata": {},
   "outputs": [],
   "source": [
    "def density_linear(height):\n",
    "    return -(3300-2670)/35000.*height + 2670\n",
    "\n",
    "homogeneous_mesh = TesseroidMesh((-10, 10, -10, 10, 0, -50000), (10, 10, 3))\n",
    "variable_mesh = TesseroidMesh((-10, 10, -10, 10, 0, -50000), (10, 10, 3))\n",
    "\n",
    "homogeneous_mesh.addprop('density', 100*np.ones(homogeneous_mesh.size))\n",
    "variable_mesh.addprop('density', [density_linear for i in range(variable_mesh.size)])"
   ]
  },
  {
   "cell_type": "code",
   "execution_count": null,
   "metadata": {},
   "outputs": [
    {
     "name": "stderr",
     "output_type": "stream",
     "text": [
      "tesseroid_density/tesseroid.py:234: RuntimeWarning: Stopped dividing a tesseroid because it's dimensions would be below the minimum numerical threshold (1e-6 degrees or 1e-3 m). Will compute without division. Cannot guarantee the accuracy of the solution.\n",
      "  warnings.warn(warning_msg, RuntimeWarning)\n",
      "Exception KeyboardInterrupt in 'tesseroid_density._tesseroid.kernelzz_variable' ignored\n"
     ]
    }
   ],
   "source": [
    "fields = 'potential gz gzz'.split()\n",
    "lon, lat = np.array([0.]), np.array([0.])\n",
    "heights = [2e3, 10e3, 50e3, 260e3]\n",
    "runs = 10000\n",
    "\n",
    "times_homogeneous = {}\n",
    "times_variable = {}\n",
    "\n",
    "for field in fields:\n",
    "    times_homogeneous[field] = []\n",
    "    times_variable[field] = []\n",
    "    for height in heights:\n",
    "        h = np.array([height])\n",
    "        t = timeit.timeit('getattr(tesseroid, field)(lon, lat, h, homogeneous_mesh)',\n",
    "                          'from __main__ import tesseroid, field, lon, lat, h, homogeneous_mesh',\n",
    "                          number=runs)\n",
    "        times_homogeneous[field].append(t)\n",
    "        t = timeit.timeit('getattr(tesseroid, field)(lon, lat, h, variable_mesh)',\n",
    "                          'from __main__ import tesseroid, field, lon, lat, h, variable_mesh',\n",
    "                          number=runs)\n",
    "        times_variable[field].append(t)"
   ]
  },
  {
   "cell_type": "code",
   "execution_count": null,
   "metadata": {},
   "outputs": [],
   "source": [
    "print times_homogeneous\n",
    "print times_variable"
   ]
  },
  {
   "cell_type": "code",
   "execution_count": null,
   "metadata": {},
   "outputs": [],
   "source": [
    "fields = 'potential gz gzz'.split()\n",
    "fig, axes = plt.subplots(nrows=len(fields), ncols=1, sharex=True)\n",
    "fig.set_size_inches((3.33, 5))\n",
    "fig.subplots_adjust(hspace=0)\n",
    "\n",
    "for field, ax in zip(fields, axes):\n",
    "    ax.plot(heights, np.array(times_homogeneous[field]), 'o-', color='k')\n",
    "    ax.plot(heights, np.array(times_variable[field]), 'o-', color='r')\n",
    "\n",
    "    \n",
    "    #ax.set_yscale('log')\n",
    "plt.show()"
   ]
  },
  {
   "cell_type": "code",
   "execution_count": null,
   "metadata": {
    "collapsed": true
   },
   "outputs": [],
   "source": []
  }
 ],
 "metadata": {
  "kernelspec": {
   "display_name": "Python 2",
   "language": "python",
   "name": "python2"
  }
 },
 "nbformat": 4,
 "nbformat_minor": 2
}
